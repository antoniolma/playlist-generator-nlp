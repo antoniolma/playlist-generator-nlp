{
 "cells": [
  {
   "cell_type": "markdown",
   "id": "120569fd",
   "metadata": {},
   "source": [
    "# Projeto - Natural Language Processing (NLP)"
   ]
  },
  {
   "cell_type": "markdown",
   "id": "b704eee6",
   "metadata": {},
   "source": [
    "**Integrantes**:\n",
    "- Antonio Lucas Michelon de Almeida\n",
    "- Pedro Nery Affonso dos Santos\n",
    "- Rafael Gordon Paves"
   ]
  },
  {
   "cell_type": "code",
   "execution_count": 4,
   "id": "0ecf514e",
   "metadata": {},
   "outputs": [],
   "source": [
    "import pandas as pd\n",
    "import re\n",
    "from dotenv import load_dotenv\n",
    "import os\n",
    "from google import genai\n",
    "import json\n",
    "from pydantic import BaseModel\n",
    "import time\n",
    "from tqdm import tqdm"
   ]
  },
  {
   "cell_type": "code",
   "execution_count": 6,
   "id": "27eafffc",
   "metadata": {},
   "outputs": [],
   "source": [
    "# Captura pedido de música\n",
    "query = input(\"O que você gostaria de ouvir hoje? \")"
   ]
  },
  {
   "cell_type": "markdown",
   "id": "36823b90",
   "metadata": {},
   "source": [
    "## Playlist gerada a partir de uma única requisição ao Gemini (LLM)"
   ]
  },
  {
   "cell_type": "code",
   "execution_count": 12,
   "id": "d711d100",
   "metadata": {},
   "outputs": [
    {
     "data": {
      "text/html": [
       "<div>\n",
       "<style scoped>\n",
       "    .dataframe tbody tr th:only-of-type {\n",
       "        vertical-align: middle;\n",
       "    }\n",
       "\n",
       "    .dataframe tbody tr th {\n",
       "        vertical-align: top;\n",
       "    }\n",
       "\n",
       "    .dataframe thead th {\n",
       "        text-align: right;\n",
       "    }\n",
       "</style>\n",
       "<table border=\"1\" class=\"dataframe\">\n",
       "  <thead>\n",
       "    <tr style=\"text-align: right;\">\n",
       "      <th></th>\n",
       "      <th>Nome da Música</th>\n",
       "      <th>Artista</th>\n",
       "      <th>Featuring</th>\n",
       "    </tr>\n",
       "  </thead>\n",
       "  <tbody>\n",
       "    <tr>\n",
       "      <th>0</th>\n",
       "      <td>Happy</td>\n",
       "      <td>Pharrell Williams</td>\n",
       "      <td>None</td>\n",
       "    </tr>\n",
       "    <tr>\n",
       "      <th>1</th>\n",
       "      <td>Walking on Sunshine</td>\n",
       "      <td>Katrina &amp; The Waves</td>\n",
       "      <td>None</td>\n",
       "    </tr>\n",
       "    <tr>\n",
       "      <th>2</th>\n",
       "      <td>September</td>\n",
       "      <td>Earth, Wind &amp; Fire</td>\n",
       "      <td>None</td>\n",
       "    </tr>\n",
       "    <tr>\n",
       "      <th>3</th>\n",
       "      <td>Don't Stop Me Now</td>\n",
       "      <td>Queen</td>\n",
       "      <td>None</td>\n",
       "    </tr>\n",
       "    <tr>\n",
       "      <th>4</th>\n",
       "      <td>Good Day</td>\n",
       "      <td>Nappy Roots</td>\n",
       "      <td>None</td>\n",
       "    </tr>\n",
       "    <tr>\n",
       "      <th>5</th>\n",
       "      <td>Lovely Day</td>\n",
       "      <td>Bill Withers</td>\n",
       "      <td>None</td>\n",
       "    </tr>\n",
       "    <tr>\n",
       "      <th>6</th>\n",
       "      <td>I Want You Back</td>\n",
       "      <td>The Jackson 5</td>\n",
       "      <td>None</td>\n",
       "    </tr>\n",
       "    <tr>\n",
       "      <th>7</th>\n",
       "      <td>Hey Ya!</td>\n",
       "      <td>Outkast</td>\n",
       "      <td>None</td>\n",
       "    </tr>\n",
       "    <tr>\n",
       "      <th>8</th>\n",
       "      <td>Valerie</td>\n",
       "      <td>Mark Ronson</td>\n",
       "      <td>Amy Winehouse</td>\n",
       "    </tr>\n",
       "    <tr>\n",
       "      <th>9</th>\n",
       "      <td>Riptide</td>\n",
       "      <td>Vance Joy</td>\n",
       "      <td>None</td>\n",
       "    </tr>\n",
       "  </tbody>\n",
       "</table>\n",
       "</div>"
      ],
      "text/plain": [
       "        Nome da Música              Artista      Featuring\n",
       "0                Happy    Pharrell Williams           None\n",
       "1  Walking on Sunshine  Katrina & The Waves           None\n",
       "2            September   Earth, Wind & Fire           None\n",
       "3    Don't Stop Me Now                Queen           None\n",
       "4             Good Day          Nappy Roots           None\n",
       "5           Lovely Day         Bill Withers           None\n",
       "6      I Want You Back        The Jackson 5           None\n",
       "7              Hey Ya!              Outkast           None\n",
       "8              Valerie          Mark Ronson  Amy Winehouse\n",
       "9              Riptide            Vance Joy           None"
      ]
     },
     "execution_count": 12,
     "metadata": {},
     "output_type": "execute_result"
    }
   ],
   "source": [
    "def monta_playlist(texto):\n",
    "    \"\"\"\n",
    "    Função que realiza uma requisição de montagem de playlist diretamente para o Gemini.\n",
    "    \"\"\"\n",
    "    \n",
    "    prompt = f\"\"\"\n",
    "    Você é um especialista em música e construção de playlists. \n",
    "    Você deve analisar o seguinte pedido de playlist e construir uma seleção de músicas que se encaixem no tema solicitado.\n",
    "    Refira-se EXCLUSIVAMENTE ao pedido fornecido para criar a playlist.\n",
    "    A playlist deve ser composta por 10 músicas, com o nome da música, do artista e possível featuring.\n",
    "    A resposta deve ser uma lista em formato JSON, com os seguintes campos:\n",
    "    - nome_musica: Nome da música\n",
    "    - artista: Nome do artista\n",
    "    - featuring: Nome do artista convidado (caso exista)\n",
    "\n",
    "    Pedido do usuário: {texto}\n",
    "    \"\"\"\n",
    "    \n",
    "    class FormatoResposta(BaseModel):\n",
    "        nome_musica: str\n",
    "        artista: str\n",
    "        featuring: str | None\n",
    "\n",
    "    client = genai.Client(api_key=os.getenv('GEMINI_API_KEY'))\n",
    "    resposta = client.models.generate_content(\n",
    "        model=\"gemini-2.0-flash\",\n",
    "        contents=prompt,\n",
    "        config={\n",
    "            \"response_mime_type\": \"application/json\",\n",
    "            'response_schema': list[FormatoResposta],\n",
    "            'temperature': 1.0\n",
    "            # 'max_output_tokens': 500,\n",
    "        }\n",
    "    )\n",
    "    return resposta\n",
    "\n",
    "# Resposta do Gemini\n",
    "resposta = monta_playlist(query)\n",
    "# Converte a resposta em um dicionário\n",
    "resposta_dict = json.loads(resposta.text)\n",
    "# Cria um DataFrame a partir da lista de dicionários\n",
    "df = pd.DataFrame(resposta_dict)\n",
    "# Renomeia as colunas\n",
    "df.rename(columns={'nome_musica': 'Nome da Música', 'artista': 'Artista', 'featuring': 'Featuring'}, inplace=True)\n",
    "df"
   ]
  },
  {
   "cell_type": "markdown",
   "id": "7ed26072",
   "metadata": {},
   "source": [
    "## Playlist gerada a partir de interações entre agentes"
   ]
  },
  {
   "cell_type": "code",
   "execution_count": null,
   "id": "146ddba0",
   "metadata": {},
   "outputs": [],
   "source": []
  },
  {
   "cell_type": "markdown",
   "id": "9cf2b4e9",
   "metadata": {},
   "source": [
    "## Playlist gerada a partir de BERT embeddings"
   ]
  },
  {
   "cell_type": "code",
   "execution_count": null,
   "id": "912f5ade",
   "metadata": {},
   "outputs": [],
   "source": []
  }
 ],
 "metadata": {
  "kernelspec": {
   "display_name": "env",
   "language": "python",
   "name": "python3"
  },
  "language_info": {
   "codemirror_mode": {
    "name": "ipython",
    "version": 3
   },
   "file_extension": ".py",
   "mimetype": "text/x-python",
   "name": "python",
   "nbconvert_exporter": "python",
   "pygments_lexer": "ipython3",
   "version": "3.12.4"
  }
 },
 "nbformat": 4,
 "nbformat_minor": 5
}
