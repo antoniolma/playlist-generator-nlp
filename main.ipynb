{
 "cells": [
  {
   "cell_type": "markdown",
   "id": "120569fd",
   "metadata": {},
   "source": [
    "# Projeto - Natural Language Processing (NLP)"
   ]
  },
  {
   "cell_type": "markdown",
   "id": "b704eee6",
   "metadata": {},
   "source": [
    "**Integrantes**:\n",
    "- Antonio Lucas Michelon de Almeida\n",
    "- Pedro Nery Affonso dos Santos\n",
    "- Rafael Gordon Paves"
   ]
  },
  {
   "cell_type": "code",
   "execution_count": null,
   "id": "0ecf514e",
   "metadata": {},
   "outputs": [],
   "source": [
    "import pandas as pd\n",
    "import re\n",
    "from dotenv import load_dotenv\n",
    "import os\n",
    "from google import genai\n",
    "import json\n",
    "from pydantic import BaseModel\n",
    "import time\n",
    "from tqdm import tqdm\n",
    "\n",
    "load_dotenv()"
   ]
  },
  {
   "cell_type": "code",
   "execution_count": 2,
   "id": "27eafffc",
   "metadata": {},
   "outputs": [],
   "source": [
    "# Captura pedido de música\n",
    "query = input(\"O que você gostaria de ouvir hoje? \")"
   ]
  },
  {
   "cell_type": "markdown",
   "id": "36823b90",
   "metadata": {},
   "source": [
    "## Playlist gerada a partir de uma única requisição ao Gemini (LLM)"
   ]
  },
  {
   "cell_type": "code",
   "execution_count": 6,
   "id": "d711d100",
   "metadata": {},
   "outputs": [
    {
     "data": {
      "text/html": [
       "<div>\n",
       "<style scoped>\n",
       "    .dataframe tbody tr th:only-of-type {\n",
       "        vertical-align: middle;\n",
       "    }\n",
       "\n",
       "    .dataframe tbody tr th {\n",
       "        vertical-align: top;\n",
       "    }\n",
       "\n",
       "    .dataframe thead th {\n",
       "        text-align: right;\n",
       "    }\n",
       "</style>\n",
       "<table border=\"1\" class=\"dataframe\">\n",
       "  <thead>\n",
       "    <tr style=\"text-align: right;\">\n",
       "      <th></th>\n",
       "      <th>Nome da Música</th>\n",
       "      <th>Artista</th>\n",
       "      <th>Featuring</th>\n",
       "    </tr>\n",
       "  </thead>\n",
       "  <tbody>\n",
       "    <tr>\n",
       "      <th>0</th>\n",
       "      <td>Sugar, Sugar</td>\n",
       "      <td>The Archies</td>\n",
       "      <td></td>\n",
       "    </tr>\n",
       "    <tr>\n",
       "      <th>1</th>\n",
       "      <td>Candy Shop</td>\n",
       "      <td>50 Cent</td>\n",
       "      <td>Olivia</td>\n",
       "    </tr>\n",
       "    <tr>\n",
       "      <th>2</th>\n",
       "      <td>I Want Candy</td>\n",
       "      <td>Bow Wow Wow</td>\n",
       "      <td></td>\n",
       "    </tr>\n",
       "    <tr>\n",
       "      <th>3</th>\n",
       "      <td>Lollipop</td>\n",
       "      <td>Mika</td>\n",
       "      <td></td>\n",
       "    </tr>\n",
       "    <tr>\n",
       "      <th>4</th>\n",
       "      <td>Honey, Honey</td>\n",
       "      <td>ABBA</td>\n",
       "      <td></td>\n",
       "    </tr>\n",
       "    <tr>\n",
       "      <th>5</th>\n",
       "      <td>Peaches</td>\n",
       "      <td>Justin Bieber</td>\n",
       "      <td>Daniel Caesar &amp; Giveon</td>\n",
       "    </tr>\n",
       "    <tr>\n",
       "      <th>6</th>\n",
       "      <td>Strawberry Fields Forever</td>\n",
       "      <td>The Beatles</td>\n",
       "      <td></td>\n",
       "    </tr>\n",
       "    <tr>\n",
       "      <th>7</th>\n",
       "      <td>Cherry Pie</td>\n",
       "      <td>Warrant</td>\n",
       "      <td></td>\n",
       "    </tr>\n",
       "    <tr>\n",
       "      <th>8</th>\n",
       "      <td>Lemon Tree</td>\n",
       "      <td>Fools Garden</td>\n",
       "      <td></td>\n",
       "    </tr>\n",
       "    <tr>\n",
       "      <th>9</th>\n",
       "      <td>Cake By The Ocean</td>\n",
       "      <td>DNCE</td>\n",
       "      <td></td>\n",
       "    </tr>\n",
       "  </tbody>\n",
       "</table>\n",
       "</div>"
      ],
      "text/plain": [
       "              Nome da Música        Artista               Featuring\n",
       "0               Sugar, Sugar    The Archies                        \n",
       "1                 Candy Shop        50 Cent                  Olivia\n",
       "2               I Want Candy    Bow Wow Wow                        \n",
       "3                   Lollipop           Mika                        \n",
       "4               Honey, Honey           ABBA                        \n",
       "5                    Peaches  Justin Bieber  Daniel Caesar & Giveon\n",
       "6  Strawberry Fields Forever    The Beatles                        \n",
       "7                 Cherry Pie        Warrant                        \n",
       "8                 Lemon Tree   Fools Garden                        \n",
       "9          Cake By The Ocean           DNCE                        "
      ]
     },
     "execution_count": 6,
     "metadata": {},
     "output_type": "execute_result"
    }
   ],
   "source": [
    "def monta_playlist(texto):\n",
    "    \"\"\"\n",
    "    Função que realiza uma requisição de montagem de playlist diretamente para o Gemini.\n",
    "    \"\"\"\n",
    "    \n",
    "    prompt = f\"\"\"\n",
    "    Você é um especialista em música e construção de playlists. \n",
    "    Você deve analisar o seguinte pedido de playlist e construir uma seleção de músicas que se encaixem no tema solicitado.\n",
    "    Refira-se EXCLUSIVAMENTE ao pedido fornecido para criar a playlist.\n",
    "    A playlist deve ser composta por 10 músicas, com o nome da música, do artista e possível featuring.\n",
    "    A resposta deve ser uma lista em formato JSON, com os seguintes campos:\n",
    "    - nome_musica: Nome da música\n",
    "    - artista: Nome do artista\n",
    "    - featuring: Nome do artista convidado (caso exista)\n",
    "\n",
    "    Pedido do usuário: {texto}\n",
    "    \"\"\"\n",
    "    \n",
    "    class FormatoResposta(BaseModel):\n",
    "        nome_musica: str\n",
    "        artista: str\n",
    "        featuring: str\n",
    "\n",
    "    client = genai.Client(api_key=os.getenv('GEMINI_API_KEY'))\n",
    "    resposta = client.models.generate_content(\n",
    "        model=\"gemini-2.0-flash\",\n",
    "        contents=prompt,\n",
    "        config={\n",
    "            \"response_mime_type\": \"application/json\",\n",
    "            'response_schema': list[FormatoResposta],\n",
    "            'temperature': 1.0\n",
    "            # 'max_output_tokens': 500,\n",
    "        }\n",
    "    )\n",
    "    return resposta\n",
    "\n",
    "# Resposta do Gemini\n",
    "resposta = monta_playlist(query)\n",
    "# Converte a resposta em um dicionário\n",
    "resposta_dict = json.loads(resposta.text)\n",
    "# Cria um DataFrame a partir da lista de dicionários\n",
    "df = pd.DataFrame(resposta_dict)\n",
    "# Renomeia as colunas\n",
    "df.rename(columns={'nome_musica': 'Nome da Música', 'artista': 'Artista', 'featuring': 'Featuring'}, inplace=True)\n",
    "df"
   ]
  },
  {
   "cell_type": "markdown",
   "id": "7ed26072",
   "metadata": {},
   "source": [
    "## Playlist gerada a partir de interações entre agentes"
   ]
  },
  {
   "cell_type": "code",
   "execution_count": null,
   "id": "146ddba0",
   "metadata": {},
   "outputs": [],
   "source": []
  },
  {
   "cell_type": "markdown",
   "id": "9cf2b4e9",
   "metadata": {},
   "source": [
    "## Playlist gerada a partir de BERT embeddings"
   ]
  },
  {
   "cell_type": "code",
   "execution_count": 2,
   "id": "912f5ade",
   "metadata": {},
   "outputs": [
    {
     "name": "stderr",
     "output_type": "stream",
     "text": [
      "Some weights of the model checkpoint at bert-large-cased were not used when initializing BertForMaskedLM: ['bert.pooler.dense.bias', 'bert.pooler.dense.weight', 'cls.seq_relationship.bias', 'cls.seq_relationship.weight']\n",
      "- This IS expected if you are initializing BertForMaskedLM from the checkpoint of a model trained on another task or with another architecture (e.g. initializing a BertForSequenceClassification model from a BertForPreTraining model).\n",
      "- This IS NOT expected if you are initializing BertForMaskedLM from the checkpoint of a model that you expect to be exactly identical (initializing a BertForSequenceClassification model from a BertForSequenceClassification model).\n",
      "Device set to use cpu\n"
     ]
    }
   ],
   "source": [
    "from transformers import pipeline\n",
    "unmasker = pipeline('fill-mask', model='bert-large-cased')"
   ]
  },
  {
   "cell_type": "code",
   "execution_count": 3,
   "id": "d2b3cf00",
   "metadata": {},
   "outputs": [
    {
     "data": {
      "text/plain": [
       "[[{'score': 0.05607090890407562,\n",
       "   'token': 1953,\n",
       "   'token_str': 'Music',\n",
       "   'sequence': '[CLS] The most popular rock song is Music from [MASK]. [SEP]'},\n",
       "  {'score': 0.04651233181357384,\n",
       "   'token': 6080,\n",
       "   'token_str': 'Songs',\n",
       "   'sequence': '[CLS] The most popular rock song is Songs from [MASK]. [SEP]'},\n",
       "  {'score': 0.03482279181480408,\n",
       "   'token': 2034,\n",
       "   'token_str': 'originally',\n",
       "   'sequence': '[CLS] The most popular rock song is originally from [MASK]. [SEP]'},\n",
       "  {'score': 0.022510167211294174,\n",
       "   'token': 2185,\n",
       "   'token_str': 'Love',\n",
       "   'sequence': '[CLS] The most popular rock song is Love from [MASK]. [SEP]'},\n",
       "  {'score': 0.02219197154045105,\n",
       "   'token': 1145,\n",
       "   'token_str': 'also',\n",
       "   'sequence': '[CLS] The most popular rock song is also from [MASK]. [SEP]'}],\n",
       " [{'score': 0.07174413651227951,\n",
       "   'token': 26148,\n",
       "   'token_str': 'U2',\n",
       "   'sequence': '[CLS] The most popular rock song is [MASK] from U2. [SEP]'},\n",
       "  {'score': 0.05013321712613106,\n",
       "   'token': 10976,\n",
       "   'token_str': 'Kiss',\n",
       "   'sequence': '[CLS] The most popular rock song is [MASK] from Kiss. [SEP]'},\n",
       "  {'score': 0.01691492088139057,\n",
       "   'token': 3524,\n",
       "   'token_str': 'Brazil',\n",
       "   'sequence': '[CLS] The most popular rock song is [MASK] from Brazil. [SEP]'},\n",
       "  {'score': 0.015037383884191513,\n",
       "   'token': 1999,\n",
       "   'token_str': 'Japan',\n",
       "   'sequence': '[CLS] The most popular rock song is [MASK] from Japan. [SEP]'},\n",
       "  {'score': 0.013007760047912598,\n",
       "   'token': 1754,\n",
       "   'token_str': 'Australia',\n",
       "   'sequence': '[CLS] The most popular rock song is [MASK] from Australia. [SEP]'}]]"
      ]
     },
     "execution_count": 3,
     "metadata": {},
     "output_type": "execute_result"
    }
   ],
   "source": [
    "unmasker(\"The most popular rock song is [MASK] from [MASK].\")"
   ]
  },
  {
   "cell_type": "code",
   "execution_count": null,
   "id": "376d6949",
   "metadata": {},
   "outputs": [],
   "source": [
    "import pandas as pd\n",
    "df = pd.read_csv('data/songs_filtrado.csv')\n",
    "X = df.copy().drop(columns=['Tag', \"Features\", \"Language\"])\n",
    "y = df['Tag']\n",
    "\n",
    "from transformers import BertTokenizer, BertModel\n",
    "from tqdm import tqdm\n",
    "import numpy as np\n",
    "tokenizer = BertTokenizer.from_pretrained('bert-base-uncased')\n",
    "model = BertModel.from_pretrained(\"bert-base-uncased\")\n",
    "def get_embeddings(text, model, tokenizer):\n",
    "    inputs = tokenizer(text, return_tensors='pt', padding=True, truncation=True, max_length=512)\n",
    "    outputs = model(**inputs)\n",
    "    cls_embedding = outputs.last_hidden_state[0, 0, :]\n",
    "    return cls_embedding\n",
    "\n",
    "embeddings = []\n",
    "for i in tqdm(range(len(X))):\n",
    "    e = get_embeddings(X.iloc[i], model, tokenizer)\n",
    "    print(f\"{X.iloc[i]} :{e.detach().numpy()}\")\n",
    "    embeddings.append(e.detach().numpy())\n",
    "embeddings = np.array(embeddings)"
   ]
  }
 ],
 "metadata": {
  "kernelspec": {
   "display_name": "base",
   "language": "python",
   "name": "python3"
  },
  "language_info": {
   "codemirror_mode": {
    "name": "ipython",
    "version": 3
   },
   "file_extension": ".py",
   "mimetype": "text/x-python",
   "name": "python",
   "nbconvert_exporter": "python",
   "pygments_lexer": "ipython3",
   "version": "3.9.7"
  }
 },
 "nbformat": 4,
 "nbformat_minor": 5
}
