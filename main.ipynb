{
 "cells": [
  {
   "cell_type": "markdown",
   "id": "120569fd",
   "metadata": {},
   "source": [
    "# Projeto - Natural Language Processing (NLP)"
   ]
  },
  {
   "cell_type": "markdown",
   "id": "b704eee6",
   "metadata": {},
   "source": [
    "**Integrantes**:\n",
    "- Antonio Lucas Michelon de Almeida\n",
    "- Pedro Nery Affonso dos Santos\n",
    "- Rafael Gordon Paves"
   ]
  },
  {
   "cell_type": "code",
   "execution_count": null,
   "id": "0ecf514e",
   "metadata": {},
   "outputs": [
    {
     "data": {
      "text/plain": [
       "True"
      ]
     },
     "execution_count": 2,
     "metadata": {},
     "output_type": "execute_result"
    }
   ],
   "source": [
    "import pandas as pd\n",
    "import re\n",
    "from dotenv import load_dotenv\n",
    "import os\n",
    "from google import genai\n",
    "import json\n",
    "import time\n",
    "from tqdm import tqdm\n",
    "\n",
    "from models import FormatoResposta\n",
    "\n",
    "load_dotenv()"
   ]
  },
  {
   "cell_type": "code",
   "execution_count": 3,
   "id": "27eafffc",
   "metadata": {},
   "outputs": [],
   "source": [
    "# Captura pedido de música\n",
    "query = input(\"O que você gostaria de ouvir hoje? \")"
   ]
  },
  {
   "cell_type": "markdown",
   "id": "36823b90",
   "metadata": {},
   "source": [
    "## Playlist gerada a partir de uma única requisição ao Gemini (LLM)"
   ]
  },
  {
   "cell_type": "code",
   "execution_count": null,
   "id": "d711d100",
   "metadata": {},
   "outputs": [
    {
     "data": {
      "text/html": [
       "<div>\n",
       "<style scoped>\n",
       "    .dataframe tbody tr th:only-of-type {\n",
       "        vertical-align: middle;\n",
       "    }\n",
       "\n",
       "    .dataframe tbody tr th {\n",
       "        vertical-align: top;\n",
       "    }\n",
       "\n",
       "    .dataframe thead th {\n",
       "        text-align: right;\n",
       "    }\n",
       "</style>\n",
       "<table border=\"1\" class=\"dataframe\">\n",
       "  <thead>\n",
       "    <tr style=\"text-align: right;\">\n",
       "      <th></th>\n",
       "      <th>Nome da Música</th>\n",
       "      <th>Artista</th>\n",
       "      <th>Featuring</th>\n",
       "    </tr>\n",
       "  </thead>\n",
       "  <tbody>\n",
       "    <tr>\n",
       "      <th>0</th>\n",
       "      <td>Umbrella</td>\n",
       "      <td>Rihanna</td>\n",
       "      <td>Jay-Z</td>\n",
       "    </tr>\n",
       "    <tr>\n",
       "      <th>1</th>\n",
       "      <td>Crazy in Love</td>\n",
       "      <td>Beyoncé</td>\n",
       "      <td>Jay-Z</td>\n",
       "    </tr>\n",
       "    <tr>\n",
       "      <th>2</th>\n",
       "      <td>Family Affair</td>\n",
       "      <td>Mary J. Blige</td>\n",
       "      <td>None</td>\n",
       "    </tr>\n",
       "    <tr>\n",
       "      <th>3</th>\n",
       "      <td>Yeah!</td>\n",
       "      <td>Usher</td>\n",
       "      <td>Lil Jon &amp; Ludacris</td>\n",
       "    </tr>\n",
       "    <tr>\n",
       "      <th>4</th>\n",
       "      <td>Hot in Herre</td>\n",
       "      <td>Nelly</td>\n",
       "      <td>None</td>\n",
       "    </tr>\n",
       "    <tr>\n",
       "      <th>5</th>\n",
       "      <td>Gold Digger</td>\n",
       "      <td>Kanye West</td>\n",
       "      <td>Jamie Foxx</td>\n",
       "    </tr>\n",
       "    <tr>\n",
       "      <th>6</th>\n",
       "      <td>Empire State of Mind</td>\n",
       "      <td>Jay-Z</td>\n",
       "      <td>Alicia Keys</td>\n",
       "    </tr>\n",
       "    <tr>\n",
       "      <th>7</th>\n",
       "      <td>In Da Club</td>\n",
       "      <td>50 Cent</td>\n",
       "      <td>None</td>\n",
       "    </tr>\n",
       "    <tr>\n",
       "      <th>8</th>\n",
       "      <td>Lose Control</td>\n",
       "      <td>Missy Elliott</td>\n",
       "      <td>Ciara &amp; Fatman Scoop</td>\n",
       "    </tr>\n",
       "    <tr>\n",
       "      <th>9</th>\n",
       "      <td>My Boo</td>\n",
       "      <td>Usher</td>\n",
       "      <td>Alicia Keys</td>\n",
       "    </tr>\n",
       "  </tbody>\n",
       "</table>\n",
       "</div>"
      ],
      "text/plain": [
       "         Nome da Música        Artista             Featuring\n",
       "0              Umbrella        Rihanna                 Jay-Z\n",
       "1         Crazy in Love        Beyoncé                 Jay-Z\n",
       "2         Family Affair  Mary J. Blige                  None\n",
       "3                 Yeah!          Usher    Lil Jon & Ludacris\n",
       "4          Hot in Herre          Nelly                  None\n",
       "5           Gold Digger     Kanye West            Jamie Foxx\n",
       "6  Empire State of Mind          Jay-Z           Alicia Keys\n",
       "7            In Da Club        50 Cent                  None\n",
       "8          Lose Control  Missy Elliott  Ciara & Fatman Scoop\n",
       "9                My Boo          Usher           Alicia Keys"
      ]
     },
     "execution_count": 3,
     "metadata": {},
     "output_type": "execute_result"
    }
   ],
   "source": [
    "def monta_playlist(texto):\n",
    "    \"\"\"\n",
    "    Função que realiza uma requisição de montagem de playlist diretamente para o Gemini.\n",
    "    \"\"\"\n",
    "    \n",
    "    prompt = f\"\"\"\n",
    "    Você é um especialista em música e construção de playlists. \n",
    "    Você deve analisar o seguinte pedido de playlist e construir uma seleção de músicas que se encaixem no tema solicitado.\n",
    "    Refira-se EXCLUSIVAMENTE ao pedido fornecido para criar a playlist.\n",
    "    A playlist deve ser composta por 10 músicas, com o nome da música, do artista e possível featuring.\n",
    "    A resposta deve ser uma lista em formato JSON, com os seguintes campos:\n",
    "    - nome_musica: Nome da música\n",
    "    - artista: Nome do artista\n",
    "    - featuring: Nome do artista convidado (caso exista)\n",
    "\n",
    "    Pedido do usuário: {texto}\n",
    "    \"\"\"\n",
    "\n",
    "    client = genai.Client(api_key=os.getenv('GEMINI_API_KEY'))\n",
    "    resposta = client.models.generate_content(\n",
    "        model=\"gemini-2.0-flash\",\n",
    "        contents=prompt,\n",
    "        config={\n",
    "            \"response_mime_type\": \"application/json\",\n",
    "            'response_schema': list[FormatoResposta],\n",
    "            'temperature': 1.0\n",
    "            # 'max_output_tokens': 500,\n",
    "        }\n",
    "    )\n",
    "    return resposta\n",
    "\n",
    "# Resposta do Gemini\n",
    "resposta = monta_playlist(query)\n",
    "# Converte a resposta em um dicionário\n",
    "resposta_dict = json.loads(resposta.text)\n",
    "# Cria um DataFrame a partir da lista de dicionários\n",
    "df = pd.DataFrame(resposta_dict)\n",
    "# Renomeia as colunas\n",
    "df.rename(columns={'nome_musica': 'Nome da Música', 'artista': 'Artista', 'featuring': 'Featuring'}, inplace=True)\n",
    "df"
   ]
  },
  {
   "cell_type": "markdown",
   "id": "7ed26072",
   "metadata": {},
   "source": [
    "## Playlist gerada a partir de interações entre agentes"
   ]
  },
  {
   "cell_type": "code",
   "execution_count": 4,
   "id": "146ddba0",
   "metadata": {},
   "outputs": [
    {
     "ename": "TypeError",
     "evalue": "PlaylistGenerator.__init__() missing 2 required positional arguments: 'config' and 'model'",
     "output_type": "error",
     "traceback": [
      "\u001b[31m---------------------------------------------------------------------------\u001b[39m",
      "\u001b[31mTypeError\u001b[39m                                 Traceback (most recent call last)",
      "\u001b[36mCell\u001b[39m\u001b[36m \u001b[39m\u001b[32mIn[4]\u001b[39m\u001b[32m, line 3\u001b[39m\n\u001b[32m      1\u001b[39m \u001b[38;5;28;01mfrom\u001b[39;00m\u001b[38;5;250m \u001b[39m\u001b[34;01magents\u001b[39;00m\u001b[38;5;250m \u001b[39m\u001b[38;5;28;01mimport\u001b[39;00m PlaylistGenerator, Validator\n\u001b[32m----> \u001b[39m\u001b[32m3\u001b[39m agente = \u001b[43mPlaylistGenerator\u001b[49m\u001b[43m(\u001b[49m\u001b[43m)\u001b[49m\n",
      "\u001b[31mTypeError\u001b[39m: PlaylistGenerator.__init__() missing 2 required positional arguments: 'config' and 'model'"
     ]
    }
   ],
   "source": [
    "from agents import PlaylistGenerator, Validator\n",
    "\n",
    "agente = PlaylistGenerator()"
   ]
  },
  {
   "cell_type": "markdown",
   "id": "9cf2b4e9",
   "metadata": {},
   "source": [
    "## Playlist gerada a partir de BERT embeddings"
   ]
  },
  {
   "cell_type": "code",
   "execution_count": 4,
   "id": "912f5ade",
   "metadata": {},
   "outputs": [
    {
     "name": "stderr",
     "output_type": "stream",
     "text": [
      "Some weights of the model checkpoint at bert-large-cased were not used when initializing BertForMaskedLM: ['bert.pooler.dense.bias', 'bert.pooler.dense.weight', 'cls.seq_relationship.bias', 'cls.seq_relationship.weight']\n",
      "- This IS expected if you are initializing BertForMaskedLM from the checkpoint of a model trained on another task or with another architecture (e.g. initializing a BertForSequenceClassification model from a BertForPreTraining model).\n",
      "- This IS NOT expected if you are initializing BertForMaskedLM from the checkpoint of a model that you expect to be exactly identical (initializing a BertForSequenceClassification model from a BertForSequenceClassification model).\n",
      "Device set to use cuda:0\n"
     ]
    }
   ],
   "source": [
    "from transformers import pipeline\n",
    "unmasker = pipeline('fill-mask', model='bert-large-cased')"
   ]
  },
  {
   "cell_type": "code",
   "execution_count": 10,
   "id": "376d6949",
   "metadata": {},
   "outputs": [
    {
     "name": "stderr",
     "output_type": "stream",
     "text": [
      "100%|██████████| 575/575 [51:22<00:00,  5.36s/it]\n"
     ]
    }
   ],
   "source": [
    "import pandas as pd\n",
    "df = pd.read_csv('data/songs_filtrado.csv')\n",
    "X = df[\"lyrics\"]\n",
    "y = df['tag']\n",
    "\n",
    "from transformers import BertTokenizer, BertModel\n",
    "from tqdm import tqdm\n",
    "import numpy as np\n",
    "import torch\n",
    "tokenizer = BertTokenizer.from_pretrained('bert-base-uncased')\n",
    "model = BertModel.from_pretrained(\"bert-base-uncased\")\n",
    "\n",
    "# Utiliza a GPU para fazer as operações, fazendo muito mais rápido para modelos grandes\n",
    "device = torch.device(\"cuda\" if torch.cuda.is_available() else \"cpu\")\n",
    "model.to(device)\n",
    "\n",
    "def get_embeddings(text, model, tokenizer):\n",
    "    with torch.no_grad():\n",
    "        inputs = tokenizer(text, return_tensors='pt', padding=True, truncation=True, max_length=512).to(device)\n",
    "        outputs = model(**inputs)\n",
    "        cls_embedding = outputs.last_hidden_state[0, 0, :].cpu()\n",
    "\n",
    "        # Para nao gastar tanta memoria\n",
    "        del inputs, outputs\n",
    "    return cls_embedding\n",
    "\n",
    "batch_size = 500\n",
    "for batch_i, inicio in enumerate(tqdm(range(0, len(X), batch_size))):\n",
    "    # Se chegou ao fim, garante nao passar o index\n",
    "    fim = inicio+batch_size if inicio+batch_size < len(X) else len(X)\n",
    "\n",
    "    # Pega pequena amostra, para evitar estourar a memoria RAM (kk)\n",
    "    batch = X.iloc[inicio:fim]\n",
    "\n",
    "    embeddings = []\n",
    "    for i in range(len(batch)):\n",
    "        e = get_embeddings(batch.iloc[i], model, tokenizer)\n",
    "        # print(f\"{batch.iloc[i]} :{e.detach().numpy()}\")\n",
    "        embeddings.append(e.detach().numpy())\n",
    "    \n",
    "    embeddings = np.array(embeddings)\n",
    "\n",
    "    # Salva os embeddings por batch, depois vamos juntar tudo\n",
    "    np.save(f'embeddings/bert_emb_{batch_i}.npy', embeddings) \n",
    "\n",
    "    # Libera variaveis pesadas\n",
    "    del embeddings\n",
    "    # Por usar GPU\n",
    "    torch.cuda.empty_cache()"
   ]
  },
  {
   "cell_type": "code",
   "execution_count": null,
   "id": "5aa6429c",
   "metadata": {},
   "outputs": [
    {
     "name": "stderr",
     "output_type": "stream",
     "text": [
      "100%|██████████| 575/575 [02:52<00:00,  3.33it/s]\n"
     ]
    }
   ],
   "source": [
    "embeddings = np.array([])\n",
    "\n",
    "for file in tqdm(os.listdir(\"./embeddings\")):\n",
    "    f = f\"./embeddings/{file}\"\n",
    "\n",
    "    embeddings_load = np.load(f)\n",
    "    embeddings = np.append(embeddings, embeddings_load)\n",
    "\n",
    "np.save(f'bert_final.npy', embeddings)\n",
    "\n",
    "del embeddings_load\n",
    "del embeddings"
   ]
  },
  {
   "cell_type": "code",
   "execution_count": null,
   "id": "aba3f113",
   "metadata": {},
   "outputs": [],
   "source": []
  }
 ],
 "metadata": {
  "kernelspec": {
   "display_name": "base",
   "language": "python",
   "name": "python3"
  },
  "language_info": {
   "codemirror_mode": {
    "name": "ipython",
    "version": 3
   },
   "file_extension": ".py",
   "mimetype": "text/x-python",
   "name": "python",
   "nbconvert_exporter": "python",
   "pygments_lexer": "ipython3",
   "version": "3.9.7"
  }
 },
 "nbformat": 4,
 "nbformat_minor": 5
}
