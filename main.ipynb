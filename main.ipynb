{
 "cells": [
  {
   "cell_type": "markdown",
   "id": "120569fd",
   "metadata": {},
   "source": [
    "# Projeto - Natural Language Processing (NLP)"
   ]
  },
  {
   "cell_type": "markdown",
   "id": "b704eee6",
   "metadata": {},
   "source": [
    "**Integrantes**:\n",
    "- Antonio Lucas Michelon de Almeida\n",
    "- Pedro Nery Affonso dos Santos\n",
    "- Rafael Gordon Paves"
   ]
  }
 ],
 "metadata": {
  "language_info": {
   "name": "python"
  }
 },
 "nbformat": 4,
 "nbformat_minor": 5
}
